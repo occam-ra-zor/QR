{
 "cells": [
  {
   "cell_type": "code",
   "execution_count": 1,
   "metadata": {},
   "outputs": [
    {
     "name": "stdout",
     "output_type": "stream",
     "text": [
      "cuda\n"
     ]
    }
   ],
   "source": [
    "import torch\n",
    "import torch.nn as nn\n",
    "import torch.nn.functional as F\n",
    "import numpy as np\n",
    "from testing import tester,display_stats,avg_stats,save_stats\n",
    "import matplotlib.pyplot as plt\n",
    "from sklearn.model_selection import KFold\n",
    "from tqdm import tqdm as pbar\n",
    "from torch.distributions.normal import Normal\n",
    "from utils.data_utils import data_helper,uci_helper\n",
    "\n",
    "from models.deep_ensemble import Ensemble \n",
    "from trainers.deep_ensemble_trainer import Ensemble_Trainer\n",
    "device = torch.device('cuda' if torch.cuda.is_available() else 'cpu')\n",
    "print(device)"
   ]
  },
  {
   "cell_type": "code",
   "execution_count": 3,
   "metadata": {},
   "outputs": [],
   "source": [
    "def train_and_test(data,input_dim,num_units=128,batch_size = 512,qr_reg = False, \n",
    "              K=0.0,epochs = 48 ,lr =1e-2, n_splits=5,spacing=64):\n",
    "    \n",
    "    \"\"\"\n",
    "          does k-fold splitting w\n",
    "    \n",
    "    \"\"\"\n",
    "    \n",
    "\n",
    "    kf = KFold(n_splits = n_splits)\n",
    "    output_dim = 1\n",
    "    dataset_stats = []\n",
    "    iso_nll_inf_count = 0\n",
    "    max_fx_up = -1\n",
    "    \n",
    "    \n",
    "    for i,idx in enumerate(kf.split(data)):\n",
    "        train_index, test_index = idx\n",
    "        helper       = data_helper(data,train_index,test_index,input_dim)\n",
    "        train_loader = helper.train_loader \n",
    "        test_loader  = helper.test_loader\n",
    "        \n",
    "        y_mean = helper.y_mean\n",
    "        y_std  = helper.y_std\n",
    "        x_range = helper.x_range\n",
    "\n",
    "\n",
    "        ensemble      = Ensemble(input_dim =input_dim , output_dim=1, units= num_units)\n",
    "        trainer       = Ensemble_Trainer(model = ensemble,input_dim =input_dim,\n",
    "                                batch_size=batch_size,lr = lr,\n",
    "                                device = device,mean=y_mean,std=y_std,\n",
    "                                qr_reg = qr_reg,K =K,x_range = x_range)\n",
    "        \n",
    "        \n",
    "        time                      = trainer.train(train_loader,epochs)\n",
    "        iso,delta,t_cdf,iso_time  = trainer.fit_isotonic(train_loader) \n",
    "        test_util                 = tester(network = ensemble,delta=delta,iso=iso,\n",
    "                                      t_cdf=t_cdf,mean=y_mean,std=y_std,\n",
    "                                      qr_reg =qr_reg,K=K)\n",
    "        \n",
    "        current_split_stats,fx_up,count       = test_util.test(test_loader)\n",
    "        iso_nll_inf_count = max(count,iso_nll_inf_count)\n",
    "        \n",
    "        current_fx_up = torch.max(fx_up)\n",
    "        max_fx_up = max(current_fx_up.item(),max_fx_up)\n",
    "        \n",
    "       \n",
    "        current_split_stats.append(time)\n",
    "        current_split_stats.append(iso_time)\n",
    "        dataset_stats.append(current_split_stats)\n",
    "                \n",
    "    \n",
    "    dataset_stats = avg_stats(dataset_stats)\n",
    "    return dataset_stats,max_fx_up,iso_nll_inf_count\n",
    "        \n",
    "        \n",
    "    "
   ]
  },
  {
   "cell_type": "code",
   "execution_count": 4,
   "metadata": {},
   "outputs": [],
   "source": [
    "def multiple_runs(name,qr=False,K=0.0,times=3):\n",
    "    #setting hyperparameters\n",
    "    \n",
    "    \n",
    "    data = uci_helper(name)\n",
    "    epochs       = 48\n",
    "    units        = 128\n",
    "    learn_rate   = 1e-2\n",
    "    input_dim    = data.shape[1]-1\n",
    "    batch_size   = 512\n",
    "\n",
    "    overall_stats = []\n",
    "    max_iso_nll_inf_count = -1\n",
    "    max_fx_up = -1\n",
    "    for i in pbar(range(times)):\n",
    "        dataset_stats,fx_up,count  = train_and_test(data,input_dim,units,batch_size,epochs=epochs,\n",
    "                                       lr=learn_rate,qr_reg = qr,K=K)\n",
    "        \n",
    "        overall_stats.append(dataset_stats)\n",
    "        max_iso_nll_inf_count = max(max_iso_nll_inf_count,count)\n",
    "        max_fx_up = max(max_fx_up,fx_up)\n",
    "    \n",
    "    save_stats(overall_stats,name,qr,K)\n",
    "    print(\"iso nll count : {} max likelihood {}\".format(max_iso_nll_inf_count,max_fx_up))"
   ]
  },
  {
   "cell_type": "code",
   "execution_count": 5,
   "metadata": {},
   "outputs": [
    {
     "name": "stderr",
     "output_type": "stream",
     "text": [
      "100%|██████████| 3/3 [01:58<00:00, 39.62s/it]"
     ]
    },
    {
     "name": "stdout",
     "output_type": "stream",
     "text": [
      "calib         : 21.06 -+ 3.21\n",
      "iso_calib     : 33.05 -+ 2.90\n",
      "rmse          : 3.17 -+ 0.11\n",
      "iso_rmse      : 3.17 -+ 0.09\n",
      "nll           : 2.78 -+ 0.05\n",
      "iso_nll       : -1.23 -+ 0.17\n",
      "time          : 7.60 -+ 0.07\n",
      "iso_time      : 0.02 -+ 0.00\n",
      "iso nll count : 60 max likelihood 2922.406005859375\n"
     ]
    },
    {
     "name": "stderr",
     "output_type": "stream",
     "text": [
      "\n"
     ]
    }
   ],
   "source": [
    "multiple_runs(\"airfoil\", qr= False,K=0.0)"
   ]
  },
  {
   "cell_type": "code",
   "execution_count": 6,
   "metadata": {},
   "outputs": [
    {
     "ename": "AttributeError",
     "evalue": "'NoneType' object has no attribute 'shape'",
     "output_type": "error",
     "traceback": [
      "\u001b[0;31m---------------------------------------------------------------------------\u001b[0m",
      "\u001b[0;31mAttributeError\u001b[0m                            Traceback (most recent call last)",
      "\u001b[0;32m<ipython-input-6-4ad412560545>\u001b[0m in \u001b[0;36m<module>\u001b[0;34m\u001b[0m\n\u001b[0;32m----> 1\u001b[0;31m \u001b[0mmultiple_runs\u001b[0m\u001b[0;34m(\u001b[0m\u001b[0;34m\"air\"\u001b[0m\u001b[0;34m,\u001b[0m \u001b[0mqr\u001b[0m\u001b[0;34m=\u001b[0m\u001b[0;32mTrue\u001b[0m\u001b[0;34m,\u001b[0m\u001b[0mK\u001b[0m\u001b[0;34m=\u001b[0m\u001b[0;36m4.0\u001b[0m\u001b[0;34m)\u001b[0m\u001b[0;34m\u001b[0m\u001b[0;34m\u001b[0m\u001b[0m\n\u001b[0m",
      "\u001b[0;32m<ipython-input-4-c6900eee51e5>\u001b[0m in \u001b[0;36mmultiple_runs\u001b[0;34m(name, qr, K, times)\u001b[0m\n\u001b[1;32m      7\u001b[0m     \u001b[0munits\u001b[0m        \u001b[0;34m=\u001b[0m \u001b[0;36m128\u001b[0m\u001b[0;34m\u001b[0m\u001b[0;34m\u001b[0m\u001b[0m\n\u001b[1;32m      8\u001b[0m     \u001b[0mlearn_rate\u001b[0m   \u001b[0;34m=\u001b[0m \u001b[0;36m1e-2\u001b[0m\u001b[0;34m\u001b[0m\u001b[0;34m\u001b[0m\u001b[0m\n\u001b[0;32m----> 9\u001b[0;31m     \u001b[0minput_dim\u001b[0m    \u001b[0;34m=\u001b[0m \u001b[0mdata\u001b[0m\u001b[0;34m.\u001b[0m\u001b[0mshape\u001b[0m\u001b[0;34m[\u001b[0m\u001b[0;36m1\u001b[0m\u001b[0;34m]\u001b[0m\u001b[0;34m-\u001b[0m\u001b[0;36m1\u001b[0m\u001b[0;34m\u001b[0m\u001b[0;34m\u001b[0m\u001b[0m\n\u001b[0m\u001b[1;32m     10\u001b[0m     \u001b[0mbatch_size\u001b[0m   \u001b[0;34m=\u001b[0m \u001b[0;36m512\u001b[0m\u001b[0;34m\u001b[0m\u001b[0;34m\u001b[0m\u001b[0m\n\u001b[1;32m     11\u001b[0m \u001b[0;34m\u001b[0m\u001b[0m\n",
      "\u001b[0;31mAttributeError\u001b[0m: 'NoneType' object has no attribute 'shape'"
     ]
    }
   ],
   "source": [
    "multiple_runs(\"air\", qr=True,K=4.0)"
   ]
  }
 ],
 "metadata": {
  "kernelspec": {
   "display_name": "Python 3",
   "language": "python",
   "name": "python3"
  },
  "language_info": {
   "codemirror_mode": {
    "name": "ipython",
    "version": 3
   },
   "file_extension": ".py",
   "mimetype": "text/x-python",
   "name": "python",
   "nbconvert_exporter": "python",
   "pygments_lexer": "ipython3",
   "version": "3.6.9"
  }
 },
 "nbformat": 4,
 "nbformat_minor": 2
}
