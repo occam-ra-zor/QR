{
 "cells": [
  {
   "cell_type": "code",
   "execution_count": 1,
   "metadata": {},
   "outputs": [
    {
     "name": "stdout",
     "output_type": "stream",
     "text": [
      "cuda\n"
     ]
    }
   ],
   "source": [
    "import torch\n",
    "import torch.nn as nn\n",
    "import torch.nn.functional as F\n",
    "import numpy as np\n",
    "from models.dropout_vi import Dropout_VI\n",
    "from testing import tester,display_stats,avg_stats,save_stats\n",
    "import matplotlib.pyplot as plt\n",
    "from sklearn.model_selection import KFold\n",
    "from tqdm import tqdm as pbar\n",
    "from torch.distributions.normal import Normal\n",
    "from trainers.dropout_vi_trainer import Dropout_VI_trainer\n",
    "from utils.data_utils import data_helper,uci_helper\n",
    "\n",
    "\n",
    "\n",
    "device = torch.device('cuda' if torch.cuda.is_available() else 'cpu')\n",
    "print(device)"
   ]
  },
  {
   "cell_type": "code",
   "execution_count": 2,
   "metadata": {},
   "outputs": [],
   "source": [
    "def train_and_test(data,input_dim,num_units=128,batch_size = 512,qr_reg = False, \n",
    "              K=0.0,epochs = 64 ,lr =1e-2, n_splits=5,spacing = 64):\n",
    "    \n",
    "    \"\"\"\n",
    "          does k-fold splitting w\n",
    "    \n",
    "    \"\"\"\n",
    "    \n",
    "\n",
    "    kf = KFold(n_splits = n_splits)\n",
    "    output_dim = 1\n",
    "    dataset_stats = []\n",
    "    iso_nll_inf_count = 0\n",
    "    max_fx_up = -1\n",
    "    for i,idx in enumerate(kf.split(data)):\n",
    "        train_index, test_index = idx\n",
    "        helper       = data_helper(data,train_index,test_index,input_dim)\n",
    "        train_loader = helper.train_loader \n",
    "        test_loader  = helper.test_loader\n",
    "        \n",
    "        y_mean = helper.y_mean\n",
    "        y_std  = helper.y_std\n",
    "        network      = Dropout_VI(input_dim =input_dim , output_dim=1, num_units=num_units,drop_prob=0.5)\n",
    "        \n",
    "        optimizer    = torch.optim.Adam(network.parameters(), lr=lr)\n",
    "        trainer      = Dropout_VI_trainer(network = network,input_dim =input_dim,\n",
    "                                          batch_size=batch_size,optimizer = optimizer,\n",
    "                                          device = device,mean=y_mean,std=y_std,\n",
    "                                          qr_reg = qr_reg,K = K,spacing = spacing)\n",
    "        \n",
    "        \n",
    "        time = trainer.train(train_loader,epochs)\n",
    "        iso,delta,t_cdf,iso_time  = trainer.fit_isotonic(train_loader) \n",
    "        test_util                 = tester(network = network,delta=delta,iso=iso,\n",
    "                                      t_cdf=t_cdf,mean=y_mean,std=y_std,\n",
    "                                      qr_reg =qr_reg,K=K)\n",
    "        \n",
    "        \n",
    "        current_split_stats,fx_up,count       = test_util.test(test_loader)\n",
    "        current_fx_up = torch.max(fx_up)\n",
    "        \n",
    "        iso_nll_inf_count = max(count,iso_nll_inf_count)\n",
    "        max_fx_up = max(current_fx_up.item(),max_fx_up)\n",
    "        current_split_stats.append(time)\n",
    "        current_split_stats.append(iso_time)\n",
    "        dataset_stats.append(current_split_stats)\n",
    "        \n",
    "        \n",
    "        \n",
    "    \n",
    "    dataset_stats = avg_stats(dataset_stats)\n",
    "    return dataset_stats,max_fx_up,iso_nll_inf_count\n",
    "        \n",
    "        \n",
    "    "
   ]
  },
  {
   "cell_type": "code",
   "execution_count": 3,
   "metadata": {},
   "outputs": [],
   "source": [
    "def multiple_runs(name,qr=False,K=0.0,times=5,spacing=64):\n",
    "    #setting hyperparameters\n",
    "    \n",
    "    \n",
    "    data = uci_helper(name)\n",
    "    epochs       = 64\n",
    "    units        = 128\n",
    "    learn_rate   = 1e-2\n",
    "    input_dim    = data.shape[1]-1\n",
    "    batch_size   = 512\n",
    "\n",
    "    overall_stats = []\n",
    "    max_iso_nll_inf_count = -1\n",
    "    max_fx_up  = -1\n",
    "    for i in pbar(range(times)):\n",
    "        dataset_stats,fx_up,count = train_and_test(data,input_dim,units,batch_size,epochs=epochs,\n",
    "                                       lr=learn_rate,qr_reg = qr,K=K,spacing = spacing)\n",
    "        \n",
    "        overall_stats.append(dataset_stats)\n",
    "        max_iso_nll_inf_count = max(max_iso_nll_inf_count,count)\n",
    "        max_fx_up = max(max_fx_up,fx_up)\n",
    "    \n",
    "    save_stats(overall_stats,name,qr,K)\n",
    "    print(\"iso nll count : {} , maximum likelihood :{}\".format(max_iso_nll_inf_count , max_fx_up))\n",
    "    "
   ]
  },
  {
   "cell_type": "code",
   "execution_count": 4,
   "metadata": {},
   "outputs": [
    {
     "name": "stderr",
     "output_type": "stream",
     "text": [
      "100%|██████████| 5/5 [00:41<00:00,  8.26s/it]"
     ]
    },
    {
     "name": "stdout",
     "output_type": "stream",
     "text": [
      "calib         : 14.01 -+ 1.67\n",
      "iso_calib     : 19.37 -+ 3.42\n",
      "rmse          : 3.63 -+ 0.10\n",
      "iso_rmse      : 3.63 -+ 0.10\n",
      "nll           : 2.70 -+ 0.02\n",
      "iso_nll       : -1.14 -+ 0.57\n",
      "time          : 1.36 -+ 0.06\n",
      "iso_time      : 0.08 -+ 0.01\n",
      "iso nll count : 18 , maximum likelihood :12022.05078125\n"
     ]
    },
    {
     "name": "stderr",
     "output_type": "stream",
     "text": [
      "\n"
     ]
    }
   ],
   "source": [
    "multiple_runs(\"airfoil\",qr=False)"
   ]
  },
  {
   "cell_type": "code",
   "execution_count": 5,
   "metadata": {},
   "outputs": [
    {
     "name": "stderr",
     "output_type": "stream",
     "text": [
      "100%|██████████| 5/5 [00:52<00:00, 10.43s/it]"
     ]
    },
    {
     "name": "stdout",
     "output_type": "stream",
     "text": [
      "calib         : 9.48 -+ 1.78\n",
      "iso_calib     : 12.73 -+ 1.46\n",
      "rmse          : 3.91 -+ 0.11\n",
      "iso_rmse      : 3.91 -+ 0.11\n",
      "nll           : 2.78 -+ 0.03\n",
      "iso_nll       : -0.76 -+ 0.32\n",
      "time          : 1.91 -+ 0.06\n",
      "iso_time      : 0.08 -+ 0.01\n",
      "iso nll count : 14 , maximum likelihood :4775.97607421875\n"
     ]
    },
    {
     "name": "stderr",
     "output_type": "stream",
     "text": [
      "\n"
     ]
    }
   ],
   "source": [
    "multiple_runs(\"airfoil\",qr=True,K=1.0)"
   ]
  }
 ],
 "metadata": {
  "kernelspec": {
   "display_name": "Python 3",
   "language": "python",
   "name": "python3"
  },
  "language_info": {
   "codemirror_mode": {
    "name": "ipython",
    "version": 3
   },
   "file_extension": ".py",
   "mimetype": "text/x-python",
   "name": "python",
   "nbconvert_exporter": "python",
   "pygments_lexer": "ipython3",
   "version": "3.6.9"
  }
 },
 "nbformat": 4,
 "nbformat_minor": 2
}
